{
 "cells": [
  {
   "cell_type": "code",
   "id": "initial_id",
   "metadata": {
    "collapsed": true,
    "ExecuteTime": {
     "end_time": "2025-08-10T08:09:33.144965Z",
     "start_time": "2025-08-10T08:09:33.123759Z"
    }
   },
   "source": [
    "from langgraph_sdk import get_client\n",
    "\n",
    "client = get_client(url=\"http://localhost:8123\")\n",
    "# Using the graph deployed with the name \"agent\"\n",
    "assistant_id = \"agent\"\n",
    "# create thread\n",
    "thread = await client.threads.create()\n",
    "print(thread)"
   ],
   "outputs": [
    {
     "name": "stdout",
     "output_type": "stream",
     "text": [
      "{'thread_id': '2baeb16b-54f3-483b-9cb1-d3dc390464b9', 'created_at': '2025-08-10T08:09:32.805526+00:00', 'updated_at': '2025-08-10T08:09:32.805526+00:00', 'metadata': {}, 'status': 'idle', 'config': {}, 'values': None, 'interrupts': {}, 'error': None}\n"
     ]
    }
   ],
   "execution_count": 46
  },
  {
   "metadata": {
    "ExecuteTime": {
     "end_time": "2025-08-10T08:09:33.169885Z",
     "start_time": "2025-08-10T08:09:33.153605Z"
    }
   },
   "cell_type": "code",
   "source": [
    "# This schedules a job to run at every minute in the thread\n",
    "cron_job = await client.crons.create_for_thread(\n",
    "    thread[\"thread_id\"],\n",
    "    assistant_id,\n",
    "    schedule=\"* * * * *\",\n",
    "    input={\"messages\": [{\"role\": \"user\", \"content\": \"What time is it?\"}]},\n",
    ")\n",
    "print(cron_job)"
   ],
   "id": "6ed20c5791727771",
   "outputs": [
    {
     "name": "stdout",
     "output_type": "stream",
     "text": [
      "{'cron_id': '7cd828eb-e2ca-452f-82a6-3ee2d3a5e14d', 'thread_id': '2baeb16b-54f3-483b-9cb1-d3dc390464b9', 'end_time': None, 'schedule': '* * * * *', 'created_at': '2025-08-10T08:09:32.822473Z', 'updated_at': '2025-08-10T08:09:32.822473Z', 'payload': {'messages': [{'role': 'user', 'content': 'What time is it?'}]}}\n"
     ]
    }
   ],
   "execution_count": 47
  },
  {
   "metadata": {
    "ExecuteTime": {
     "end_time": "2025-08-10T08:09:33.189768Z",
     "start_time": "2025-08-10T08:09:33.174786Z"
    }
   },
   "cell_type": "code",
   "source": [
    "# This schedules a job to run at every minute\n",
    "cron_job_stateless = await client.crons.create(\n",
    "    assistant_id,\n",
    "    schedule=\"* * * * *\",\n",
    "    input={\"messages\": [{\"role\": \"user\", \"content\": \"몇 시니?\"}]},\n",
    ")\n",
    "print(cron_job_stateless)"
   ],
   "id": "50876f722849541c",
   "outputs": [
    {
     "name": "stdout",
     "output_type": "stream",
     "text": [
      "{'cron_id': 'a8d59f9f-b599-4e9d-9687-54f3e6e98b9c', 'thread_id': None, 'end_time': None, 'schedule': '* * * * *', 'created_at': '2025-08-10T08:09:32.843291Z', 'updated_at': '2025-08-10T08:09:32.843291Z', 'payload': {'messages': [{'role': 'user', 'content': '몇 시니?'}]}}\n"
     ]
    }
   ],
   "execution_count": 48
  },
  {
   "metadata": {
    "ExecuteTime": {
     "end_time": "2025-08-10T08:09:33.201169Z",
     "start_time": "2025-08-10T08:09:33.192971Z"
    }
   },
   "cell_type": "code",
   "source": [
    "crons = await client.crons.search(assistant_id=\"agent\")\n",
    "print(crons)"
   ],
   "id": "e77c10f02ba72c30",
   "outputs": [
    {
     "name": "stdout",
     "output_type": "stream",
     "text": [
      "[{'cron_id': 'a8d59f9f-b599-4e9d-9687-54f3e6e98b9c', 'thread_id': None, 'end_time': None, 'schedule': '* * * * *', 'created_at': '2025-08-10T08:09:32.855527Z', 'updated_at': '2025-08-10T08:09:32.855528Z', 'payload': {'messages': [{'role': 'user', 'content': '몇 시니?'}]}}, {'cron_id': '7cd828eb-e2ca-452f-82a6-3ee2d3a5e14d', 'thread_id': '2baeb16b-54f3-483b-9cb1-d3dc390464b9', 'end_time': None, 'schedule': '* * * * *', 'created_at': '2025-08-10T08:09:32.836631Z', 'updated_at': '2025-08-10T08:09:32.836632Z', 'payload': {'messages': [{'role': 'user', 'content': 'What time is it?'}]}}]\n"
     ]
    }
   ],
   "execution_count": 49
  },
  {
   "metadata": {
    "ExecuteTime": {
     "end_time": "2025-08-10T08:09:33.228382Z",
     "start_time": "2025-08-10T08:09:33.212290Z"
    }
   },
   "cell_type": "code",
   "source": [
    "for cron in crons:\n",
    "    await client.crons.delete(cron[\"cron_id\"])"
   ],
   "id": "1ec2db0d40d70b1a",
   "outputs": [],
   "execution_count": 50
  }
 ],
 "metadata": {
  "kernelspec": {
   "display_name": "Python 3",
   "language": "python",
   "name": "python3"
  },
  "language_info": {
   "codemirror_mode": {
    "name": "ipython",
    "version": 2
   },
   "file_extension": ".py",
   "mimetype": "text/x-python",
   "name": "python",
   "nbconvert_exporter": "python",
   "pygments_lexer": "ipython2",
   "version": "2.7.6"
  }
 },
 "nbformat": 4,
 "nbformat_minor": 5
}
